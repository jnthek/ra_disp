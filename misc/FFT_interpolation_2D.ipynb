{
 "cells": [
  {
   "cell_type": "code",
   "execution_count": null,
   "metadata": {},
   "outputs": [],
   "source": [
    "import numpy as np\n",
    "import matplotlib.pyplot as plt\n",
    "import matplotlib.image as mpimg\n",
    "from scipy.signal import windows #.windows.dpss"
   ]
  },
  {
   "cell_type": "code",
   "execution_count": null,
   "metadata": {},
   "outputs": [],
   "source": [
    "img_base = mpimg.imread(\"Cameraman_gs.png\")\n",
    "interp_fac = 4\n",
    "img_base = img_base*0.0 #these two lines replace the original image with a point source to study the effects of interpolation\n",
    "img_base[256,256] = 1.0\n",
    "\n",
    "imdim_orig = img_base.shape[0] # Assumes a square image\n",
    "\n",
    "img_original_fft = np.fft.fftshift(np.fft.fft2(img_base)) #FFTshift required to bring the DC level to the centre - makes zero padding easier\n",
    "img_original = np.fft.ifft2(img_original_fft) #\"Reconstruct\" the original image\n",
    "\n",
    "img_interp_fft = np.zeros([imdim_orig*interp_fac,imdim_orig*interp_fac], dtype=np.complex128) #Array to hold the zero padded FFT\n",
    "\n",
    "cent_negdim = int((interp_fac-1)*imdim_orig/2) # Finding the left/top coordinate of the centre square in the Fourier plane\n",
    "cent_posdim = int((interp_fac+1)*imdim_orig/2) # Finding the right/bottom coordinate of the centre square in the Fourier plane\n",
    "\n",
    "img_interp_fft[cent_negdim:cent_posdim, cent_negdim:cent_posdim] += img_original_fft #Zero padded !\n",
    "\n",
    "window_1d = windows.dpss(M=imdim_orig*interp_fac, NW=32)\n",
    "window_2d = np.matmul(np.expand_dims(window_1d, axis=0).T, np.expand_dims(window_1d, axis=0))\n",
    "img_interp = np.fft.ifft2(img_interp_fft) \n",
    "img_interp_windowed = np.fft.ifft2(img_interp_fft*window_2d)"
   ]
  },
  {
   "cell_type": "code",
   "execution_count": null,
   "metadata": {},
   "outputs": [],
   "source": [
    "# plt.figure(figsize=(5,5))\n",
    "# plt.imshow(np.abs(img_original_fft))\n",
    "\n",
    "# plt.figure(figsize=(5,5))\n",
    "# plt.imshow(np.abs(img_interp_fft*window_2d))"
   ]
  },
  {
   "cell_type": "code",
   "execution_count": null,
   "metadata": {},
   "outputs": [],
   "source": [
    "fig, ax = plt.subplots(1,3, figsize=(9*2,19*3))\n",
    "\n",
    "ax[0].imshow(np.abs(img_original), cmap='jet')\n",
    "ax[0].set_xlim(251,261)\n",
    "ax[0].set_ylim(251,261)\n",
    "ax[0].set_title(\"Original image with \"+str(imdim_orig)+\" size\")\n",
    "\n",
    "ax[1].imshow(np.abs(img_interp), cmap='jet')\n",
    "ax[1].set_xlim(251*interp_fac,261*interp_fac)\n",
    "ax[1].set_ylim(251*interp_fac,261*interp_fac)\n",
    "ax[1].set_title(\"FFT interpolated  \"+str(imdim_orig*interp_fac)+\" size image\")\n",
    "\n",
    "ax[2].imshow(np.abs(img_interp_windowed), cmap='jet')\n",
    "ax[2].set_xlim(251*interp_fac,261*interp_fac)\n",
    "ax[2].set_ylim(251*interp_fac,261*interp_fac)\n",
    "ax[2].set_title(\"FFT interpolated  \"+str(imdim_orig*interp_fac)+\" size image, windowed\")"
   ]
  }
 ],
 "metadata": {
  "kernelspec": {
   "display_name": "Python 3",
   "language": "python",
   "name": "python3"
  },
  "language_info": {
   "codemirror_mode": {
    "name": "ipython",
    "version": 3
   },
   "file_extension": ".py",
   "mimetype": "text/x-python",
   "name": "python",
   "nbconvert_exporter": "python",
   "pygments_lexer": "ipython3",
   "version": "3.11.1"
  }
 },
 "nbformat": 4,
 "nbformat_minor": 4
}
